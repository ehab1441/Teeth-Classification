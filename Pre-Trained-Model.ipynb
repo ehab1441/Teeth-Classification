{
 "cells": [
  {
   "cell_type": "code",
   "execution_count": 1,
   "id": "6e4aa87e",
   "metadata": {
    "execution": {
     "iopub.execute_input": "2025-02-13T21:08:24.875833Z",
     "iopub.status.busy": "2025-02-13T21:08:24.875588Z",
     "iopub.status.idle": "2025-02-13T21:08:38.084896Z",
     "shell.execute_reply": "2025-02-13T21:08:38.083970Z"
    },
    "papermill": {
     "duration": 13.215652,
     "end_time": "2025-02-13T21:08:38.086487",
     "exception": false,
     "start_time": "2025-02-13T21:08:24.870835",
     "status": "completed"
    },
    "tags": []
   },
   "outputs": [],
   "source": [
    "import numpy as np\n",
    "import pandas as pd\n",
    "import seaborn as sns\n",
    "import matplotlib.pyplot as plt\n",
    "from sklearn.metrics import classification_report, confusion_matrix\n",
    "from sklearn.metrics import precision_recall_curve\n",
    "import tensorflow as tf\n",
    "from tensorflow.keras.callbacks import ModelCheckpoint, EarlyStopping\n",
    "from tensorflow.keras.applications import DenseNet121\n",
    "from tensorflow.keras import layers, models\n",
    "from tensorflow.keras.metrics import Precision, Recall\n",
    "from tensorflow.keras.optimizers import Adam\n",
    "from tensorflow.keras.preprocessing import image\n",
    "from tensorflow.keras.preprocessing.image import ImageDataGenerator"
   ]
  },
  {
   "cell_type": "code",
   "execution_count": 2,
   "id": "0a7829d7",
   "metadata": {
    "execution": {
     "iopub.execute_input": "2025-02-13T21:08:38.095132Z",
     "iopub.status.busy": "2025-02-13T21:08:38.094691Z",
     "iopub.status.idle": "2025-02-13T21:08:38.755225Z",
     "shell.execute_reply": "2025-02-13T21:08:38.754254Z"
    },
    "papermill": {
     "duration": 0.670282,
     "end_time": "2025-02-13T21:08:38.760757",
     "exception": false,
     "start_time": "2025-02-13T21:08:38.090475",
     "status": "completed"
    },
    "tags": []
   },
   "outputs": [
    {
     "name": "stdout",
     "output_type": "stream",
     "text": [
      "Num GPUs Available: 2\n",
      "Device: PhysicalDevice(name='/physical_device:GPU:0', device_type='GPU')\n",
      "Device: PhysicalDevice(name='/physical_device:GPU:1', device_type='GPU')\n",
      "GPU enabled for TensorFlow!\n",
      "Available GPUs: [PhysicalDevice(name='/physical_device:GPU:0', device_type='GPU'), PhysicalDevice(name='/physical_device:GPU:1', device_type='GPU')]\n",
      "Memory growth set for GPUs\n"
     ]
    }
   ],
   "source": [
    "#Check if GPU is availabl\n",
    "print(\"Num GPUs Available:\", len(tf.config.experimental.list_physical_devices('GPU')))\n",
    "\n",
    "# Print GPU details\n",
    "gpu_devices = tf.config.experimental.list_physical_devices('GPU')\n",
    "if gpu_devices:\n",
    "    for gpu in gpu_devices:\n",
    "        print(\"Device:\", gpu)\n",
    "else:\n",
    "    print(\"No GPU found. Make sure GPU is enabled in Kaggle settings.\")\n",
    "# Set TensorFlow to run on GPU\n",
    "physical_devices = tf.config.experimental.list_physical_devices('GPU')\n",
    "if physical_devices:\n",
    "    try:\n",
    "        tf.config.experimental.set_memory_growth(physical_devices[0], True)\n",
    "        print(\"GPU enabled for TensorFlow!\")\n",
    "    except RuntimeError as e:\n",
    "        print(e)\n",
    "\n",
    "\n",
    "# List available GPUs\n",
    "gpus = tf.config.experimental.list_physical_devices('GPU')\n",
    "print(\"Available GPUs:\", gpus)\n",
    "\n",
    "# Ensure TensorFlow does not attempt to use multiple GPUs\n",
    "if gpus:\n",
    "    try:\n",
    "        # Set memory growth to prevent the error\n",
    "        for gpu in gpus:\n",
    "            tf.config.experimental.set_memory_growth(gpu, True)\n",
    "        print(\"Memory growth set for GPUs\")\n",
    "    except RuntimeError as e:\n",
    "        print(e)  # If memory growth is already set, continue"
   ]
  },
  {
   "cell_type": "code",
   "execution_count": 3,
   "id": "8f526d40",
   "metadata": {
    "execution": {
     "iopub.execute_input": "2025-02-13T21:08:38.769789Z",
     "iopub.status.busy": "2025-02-13T21:08:38.769541Z",
     "iopub.status.idle": "2025-02-13T21:08:42.945318Z",
     "shell.execute_reply": "2025-02-13T21:08:42.944564Z"
    },
    "papermill": {
     "duration": 4.181747,
     "end_time": "2025-02-13T21:08:42.946821",
     "exception": false,
     "start_time": "2025-02-13T21:08:38.765074",
     "status": "completed"
    },
    "tags": []
   },
   "outputs": [
    {
     "name": "stdout",
     "output_type": "stream",
     "text": [
      "Found 3087 images belonging to 7 classes.\n",
      "Found 1028 images belonging to 7 classes.\n",
      "Class indices: {'CaS': 0, 'CoS': 1, 'Gum': 2, 'MC': 3, 'OC': 4, 'OLP': 5, 'OT': 6}\n",
      "Class indices: {'CaS': 0, 'CoS': 1, 'Gum': 2, 'MC': 3, 'OC': 4, 'OLP': 5, 'OT': 6}\n"
     ]
    }
   ],
   "source": [
    "train_path = \"/kaggle/input/teeth-cellula/Teeth_Dataset/Training\"\n",
    "val_path = \"/kaggle/input/teeth-cellula/Teeth_Dataset/Validation\"\n",
    "\n",
    "train_datagen = ImageDataGenerator(\n",
    "    rescale=1./255,\n",
    "    rotation_range=30,\n",
    "    width_shift_range=0.2,\n",
    "    height_shift_range=0.2,\n",
    "    shear_range=0.2,\n",
    "    zoom_range=0.2,\n",
    "    brightness_range=[0.8, 1.2],\n",
    "    horizontal_flip=True,\n",
    "    fill_mode='nearest'\n",
    ")\n",
    "\n",
    "train_generator = train_datagen.flow_from_directory(\n",
    "    train_path,\n",
    "    target_size=(224, 224),\n",
    "    batch_size=32,\n",
    "    class_mode='sparse'\n",
    ")\n",
    "\n",
    "\n",
    "\n",
    "val_datagen = ImageDataGenerator(\n",
    "    rescale=1./255\n",
    ")\n",
    "\n",
    "val_generator = val_datagen.flow_from_directory(\n",
    "    val_path,\n",
    "    target_size=(224, 224),\n",
    "    batch_size=32,\n",
    "    class_mode='sparse'\n",
    ")\n",
    "\n",
    "print(\"Class indices:\", train_generator.class_indices)\n",
    "print(\"Class indices:\", val_generator.class_indices)"
   ]
  },
  {
   "cell_type": "code",
   "execution_count": null,
   "id": "a2f453c2",
   "metadata": {
    "execution": {
     "iopub.execute_input": "2025-02-13T21:08:42.955831Z",
     "iopub.status.busy": "2025-02-13T21:08:42.955608Z",
     "iopub.status.idle": "2025-02-13T21:08:47.146051Z",
     "shell.execute_reply": "2025-02-13T21:08:47.145228Z"
    },
    "papermill": {
     "duration": 4.196068,
     "end_time": "2025-02-13T21:08:47.147197",
     "exception": false,
     "start_time": "2025-02-13T21:08:42.951129",
     "status": "completed"
    },
    "tags": []
   },
   "outputs": [
    {
     "name": "stdout",
     "output_type": "stream",
     "text": [
      "Downloading data from https://storage.googleapis.com/tensorflow/keras-applications/densenet/densenet121_weights_tf_dim_ordering_tf_kernels_notop.h5\n",
      "\u001b[1m29084464/29084464\u001b[0m \u001b[32m━━━━━━━━━━━━━━━━━━━━\u001b[0m\u001b[37m\u001b[0m \u001b[1m0s\u001b[0m 0us/step\n"
     ]
    },
    {
     "data": {
      "text/html": [
       "<pre style=\"white-space:pre;overflow-x:auto;line-height:normal;font-family:Menlo,'DejaVu Sans Mono',consolas,'Courier New',monospace\"><span style=\"font-weight: bold\">Model: \"sequential\"</span>\n",
       "</pre>\n"
      ],
      "text/plain": [
       "\u001b[1mModel: \"sequential\"\u001b[0m\n"
      ]
     },
     "metadata": {},
     "output_type": "display_data"
    },
    {
     "data": {
      "text/html": [
       "<pre style=\"white-space:pre;overflow-x:auto;line-height:normal;font-family:Menlo,'DejaVu Sans Mono',consolas,'Courier New',monospace\">┏━━━━━━━━━━━━━━━━━━━━━━━━━━━━━━━━━━━━━━┳━━━━━━━━━━━━━━━━━━━━━━━━━━━━━┳━━━━━━━━━━━━━━━━━┓\n",
       "┃<span style=\"font-weight: bold\"> Layer (type)                         </span>┃<span style=\"font-weight: bold\"> Output Shape                </span>┃<span style=\"font-weight: bold\">         Param # </span>┃\n",
       "┡━━━━━━━━━━━━━━━━━━━━━━━━━━━━━━━━━━━━━━╇━━━━━━━━━━━━━━━━━━━━━━━━━━━━━╇━━━━━━━━━━━━━━━━━┩\n",
       "│ densenet121 (<span style=\"color: #0087ff; text-decoration-color: #0087ff\">Functional</span>)             │ (<span style=\"color: #00d7ff; text-decoration-color: #00d7ff\">None</span>, <span style=\"color: #00af00; text-decoration-color: #00af00\">7</span>, <span style=\"color: #00af00; text-decoration-color: #00af00\">7</span>, <span style=\"color: #00af00; text-decoration-color: #00af00\">1024</span>)          │       <span style=\"color: #00af00; text-decoration-color: #00af00\">7,037,504</span> │\n",
       "├──────────────────────────────────────┼─────────────────────────────┼─────────────────┤\n",
       "│ global_average_pooling2d             │ (<span style=\"color: #00d7ff; text-decoration-color: #00d7ff\">None</span>, <span style=\"color: #00af00; text-decoration-color: #00af00\">1024</span>)                │               <span style=\"color: #00af00; text-decoration-color: #00af00\">0</span> │\n",
       "│ (<span style=\"color: #0087ff; text-decoration-color: #0087ff\">GlobalAveragePooling2D</span>)             │                             │                 │\n",
       "├──────────────────────────────────────┼─────────────────────────────┼─────────────────┤\n",
       "│ dense (<span style=\"color: #0087ff; text-decoration-color: #0087ff\">Dense</span>)                        │ (<span style=\"color: #00d7ff; text-decoration-color: #00d7ff\">None</span>, <span style=\"color: #00af00; text-decoration-color: #00af00\">256</span>)                 │         <span style=\"color: #00af00; text-decoration-color: #00af00\">262,400</span> │\n",
       "├──────────────────────────────────────┼─────────────────────────────┼─────────────────┤\n",
       "│ dropout (<span style=\"color: #0087ff; text-decoration-color: #0087ff\">Dropout</span>)                    │ (<span style=\"color: #00d7ff; text-decoration-color: #00d7ff\">None</span>, <span style=\"color: #00af00; text-decoration-color: #00af00\">256</span>)                 │               <span style=\"color: #00af00; text-decoration-color: #00af00\">0</span> │\n",
       "├──────────────────────────────────────┼─────────────────────────────┼─────────────────┤\n",
       "│ dense_1 (<span style=\"color: #0087ff; text-decoration-color: #0087ff\">Dense</span>)                      │ (<span style=\"color: #00d7ff; text-decoration-color: #00d7ff\">None</span>, <span style=\"color: #00af00; text-decoration-color: #00af00\">128</span>)                 │          <span style=\"color: #00af00; text-decoration-color: #00af00\">32,896</span> │\n",
       "├──────────────────────────────────────┼─────────────────────────────┼─────────────────┤\n",
       "│ dropout_1 (<span style=\"color: #0087ff; text-decoration-color: #0087ff\">Dropout</span>)                  │ (<span style=\"color: #00d7ff; text-decoration-color: #00d7ff\">None</span>, <span style=\"color: #00af00; text-decoration-color: #00af00\">128</span>)                 │               <span style=\"color: #00af00; text-decoration-color: #00af00\">0</span> │\n",
       "├──────────────────────────────────────┼─────────────────────────────┼─────────────────┤\n",
       "│ dense_2 (<span style=\"color: #0087ff; text-decoration-color: #0087ff\">Dense</span>)                      │ (<span style=\"color: #00d7ff; text-decoration-color: #00d7ff\">None</span>, <span style=\"color: #00af00; text-decoration-color: #00af00\">7</span>)                   │             <span style=\"color: #00af00; text-decoration-color: #00af00\">903</span> │\n",
       "└──────────────────────────────────────┴─────────────────────────────┴─────────────────┘\n",
       "</pre>\n"
      ],
      "text/plain": [
       "┏━━━━━━━━━━━━━━━━━━━━━━━━━━━━━━━━━━━━━━┳━━━━━━━━━━━━━━━━━━━━━━━━━━━━━┳━━━━━━━━━━━━━━━━━┓\n",
       "┃\u001b[1m \u001b[0m\u001b[1mLayer (type)                        \u001b[0m\u001b[1m \u001b[0m┃\u001b[1m \u001b[0m\u001b[1mOutput Shape               \u001b[0m\u001b[1m \u001b[0m┃\u001b[1m \u001b[0m\u001b[1m        Param #\u001b[0m\u001b[1m \u001b[0m┃\n",
       "┡━━━━━━━━━━━━━━━━━━━━━━━━━━━━━━━━━━━━━━╇━━━━━━━━━━━━━━━━━━━━━━━━━━━━━╇━━━━━━━━━━━━━━━━━┩\n",
       "│ densenet121 (\u001b[38;5;33mFunctional\u001b[0m)             │ (\u001b[38;5;45mNone\u001b[0m, \u001b[38;5;34m7\u001b[0m, \u001b[38;5;34m7\u001b[0m, \u001b[38;5;34m1024\u001b[0m)          │       \u001b[38;5;34m7,037,504\u001b[0m │\n",
       "├──────────────────────────────────────┼─────────────────────────────┼─────────────────┤\n",
       "│ global_average_pooling2d             │ (\u001b[38;5;45mNone\u001b[0m, \u001b[38;5;34m1024\u001b[0m)                │               \u001b[38;5;34m0\u001b[0m │\n",
       "│ (\u001b[38;5;33mGlobalAveragePooling2D\u001b[0m)             │                             │                 │\n",
       "├──────────────────────────────────────┼─────────────────────────────┼─────────────────┤\n",
       "│ dense (\u001b[38;5;33mDense\u001b[0m)                        │ (\u001b[38;5;45mNone\u001b[0m, \u001b[38;5;34m256\u001b[0m)                 │         \u001b[38;5;34m262,400\u001b[0m │\n",
       "├──────────────────────────────────────┼─────────────────────────────┼─────────────────┤\n",
       "│ dropout (\u001b[38;5;33mDropout\u001b[0m)                    │ (\u001b[38;5;45mNone\u001b[0m, \u001b[38;5;34m256\u001b[0m)                 │               \u001b[38;5;34m0\u001b[0m │\n",
       "├──────────────────────────────────────┼─────────────────────────────┼─────────────────┤\n",
       "│ dense_1 (\u001b[38;5;33mDense\u001b[0m)                      │ (\u001b[38;5;45mNone\u001b[0m, \u001b[38;5;34m128\u001b[0m)                 │          \u001b[38;5;34m32,896\u001b[0m │\n",
       "├──────────────────────────────────────┼─────────────────────────────┼─────────────────┤\n",
       "│ dropout_1 (\u001b[38;5;33mDropout\u001b[0m)                  │ (\u001b[38;5;45mNone\u001b[0m, \u001b[38;5;34m128\u001b[0m)                 │               \u001b[38;5;34m0\u001b[0m │\n",
       "├──────────────────────────────────────┼─────────────────────────────┼─────────────────┤\n",
       "│ dense_2 (\u001b[38;5;33mDense\u001b[0m)                      │ (\u001b[38;5;45mNone\u001b[0m, \u001b[38;5;34m7\u001b[0m)                   │             \u001b[38;5;34m903\u001b[0m │\n",
       "└──────────────────────────────────────┴─────────────────────────────┴─────────────────┘\n"
      ]
     },
     "metadata": {},
     "output_type": "display_data"
    },
    {
     "data": {
      "text/html": [
       "<pre style=\"white-space:pre;overflow-x:auto;line-height:normal;font-family:Menlo,'DejaVu Sans Mono',consolas,'Courier New',monospace\"><span style=\"font-weight: bold\"> Total params: </span><span style=\"color: #00af00; text-decoration-color: #00af00\">7,333,703</span> (27.98 MB)\n",
       "</pre>\n"
      ],
      "text/plain": [
       "\u001b[1m Total params: \u001b[0m\u001b[38;5;34m7,333,703\u001b[0m (27.98 MB)\n"
      ]
     },
     "metadata": {},
     "output_type": "display_data"
    },
    {
     "data": {
      "text/html": [
       "<pre style=\"white-space:pre;overflow-x:auto;line-height:normal;font-family:Menlo,'DejaVu Sans Mono',consolas,'Courier New',monospace\"><span style=\"font-weight: bold\"> Trainable params: </span><span style=\"color: #00af00; text-decoration-color: #00af00\">296,199</span> (1.13 MB)\n",
       "</pre>\n"
      ],
      "text/plain": [
       "\u001b[1m Trainable params: \u001b[0m\u001b[38;5;34m296,199\u001b[0m (1.13 MB)\n"
      ]
     },
     "metadata": {},
     "output_type": "display_data"
    },
    {
     "data": {
      "text/html": [
       "<pre style=\"white-space:pre;overflow-x:auto;line-height:normal;font-family:Menlo,'DejaVu Sans Mono',consolas,'Courier New',monospace\"><span style=\"font-weight: bold\"> Non-trainable params: </span><span style=\"color: #00af00; text-decoration-color: #00af00\">7,037,504</span> (26.85 MB)\n",
       "</pre>\n"
      ],
      "text/plain": [
       "\u001b[1m Non-trainable params: \u001b[0m\u001b[38;5;34m7,037,504\u001b[0m (26.85 MB)\n"
      ]
     },
     "metadata": {},
     "output_type": "display_data"
    }
   ],
   "source": [
    "base_model = DenseNet121(include_top=False, weights='imagenet', input_shape=(224, 224, 3))\n",
    "base_model.trainable = False\n",
    "\n",
    "model = models.Sequential([\n",
    "    base_model,\n",
    "    layers.GlobalAveragePooling2D(),\n",
    "    layers.Dense(256, activation='relu'),\n",
    "    layers.Dropout(0.5),\n",
    "    layers.Dense(128, activation='relu'),\n",
    "    layers.Dropout(0.3),\n",
    "    layers.Dense(7, activation='softmax')\n",
    "])\n",
    "\n",
    "model.compile(\n",
    "    optimizer=Adam(learning_rate=0.0001),\n",
    "    loss='sparse_categorical_crossentropy',\n",
    "    metrics=['accuracy']\n",
    ")\n",
    "\n",
    "model.summary()"
   ]
  },
  {
   "cell_type": "code",
   "execution_count": 5,
   "id": "b81587e5",
   "metadata": {
    "execution": {
     "iopub.execute_input": "2025-02-13T21:08:47.157237Z",
     "iopub.status.busy": "2025-02-13T21:08:47.157002Z",
     "iopub.status.idle": "2025-02-13T21:08:47.707785Z",
     "shell.execute_reply": "2025-02-13T21:08:47.706944Z"
    },
    "papermill": {
     "duration": 0.557164,
     "end_time": "2025-02-13T21:08:47.709124",
     "exception": false,
     "start_time": "2025-02-13T21:08:47.151960",
     "status": "completed"
    },
    "tags": []
   },
   "outputs": [
    {
     "name": "stdout",
     "output_type": "stream",
     "text": [
      "Image batch shape: (32, 224, 224, 3)\n",
      "Label batch shape: (32,)\n"
     ]
    }
   ],
   "source": [
    "batch_x, batch_y = next(train_generator)\n",
    "print(\"Image batch shape:\", batch_x.shape)  # Should be (batch_size, 224, 224, 3)\n",
    "print(\"Label batch shape:\", batch_y.shape)  # Should be (batch_size, 7)"
   ]
  },
  {
   "cell_type": "code",
   "execution_count": 6,
   "id": "34e3a7fd",
   "metadata": {
    "execution": {
     "iopub.execute_input": "2025-02-13T21:08:47.719149Z",
     "iopub.status.busy": "2025-02-13T21:08:47.718911Z",
     "iopub.status.idle": "2025-02-13T21:30:44.299893Z",
     "shell.execute_reply": "2025-02-13T21:30:44.298980Z"
    },
    "papermill": {
     "duration": 1316.587505,
     "end_time": "2025-02-13T21:30:44.301412",
     "exception": false,
     "start_time": "2025-02-13T21:08:47.713907",
     "status": "completed"
    },
    "tags": []
   },
   "outputs": [
    {
     "name": "stdout",
     "output_type": "stream",
     "text": [
      "Epoch 1/30\n"
     ]
    },
    {
     "name": "stderr",
     "output_type": "stream",
     "text": [
      "/usr/local/lib/python3.10/dist-packages/keras/src/trainers/data_adapters/py_dataset_adapter.py:122: UserWarning: Your `PyDataset` class should call `super().__init__(**kwargs)` in its constructor. `**kwargs` can include `workers`, `use_multiprocessing`, `max_queue_size`. Do not pass these arguments to `fit()`, as they will be ignored.\n",
      "  self._warn_if_super_not_called()\n"
     ]
    },
    {
     "name": "stdout",
     "output_type": "stream",
     "text": [
      "\u001b[1m97/97\u001b[0m \u001b[32m━━━━━━━━━━━━━━━━━━━━\u001b[0m\u001b[37m\u001b[0m \u001b[1m104s\u001b[0m 779ms/step - accuracy: 0.1540 - loss: 2.2348 - val_accuracy: 0.3424 - val_loss: 1.7563\n",
      "Epoch 2/30\n",
      "\u001b[1m97/97\u001b[0m \u001b[32m━━━━━━━━━━━━━━━━━━━━\u001b[0m\u001b[37m\u001b[0m \u001b[1m41s\u001b[0m 392ms/step - accuracy: 0.2602 - loss: 1.8570 - val_accuracy: 0.4377 - val_loss: 1.6012\n",
      "Epoch 3/30\n",
      "\u001b[1m97/97\u001b[0m \u001b[32m━━━━━━━━━━━━━━━━━━━━\u001b[0m\u001b[37m\u001b[0m \u001b[1m41s\u001b[0m 396ms/step - accuracy: 0.3192 - loss: 1.7194 - val_accuracy: 0.4776 - val_loss: 1.4661\n",
      "Epoch 4/30\n",
      "\u001b[1m97/97\u001b[0m \u001b[32m━━━━━━━━━━━━━━━━━━━━\u001b[0m\u001b[37m\u001b[0m \u001b[1m42s\u001b[0m 408ms/step - accuracy: 0.3575 - loss: 1.6334 - val_accuracy: 0.5272 - val_loss: 1.3712\n",
      "Epoch 5/30\n",
      "\u001b[1m97/97\u001b[0m \u001b[32m━━━━━━━━━━━━━━━━━━━━\u001b[0m\u001b[37m\u001b[0m \u001b[1m42s\u001b[0m 403ms/step - accuracy: 0.3951 - loss: 1.5475 - val_accuracy: 0.5749 - val_loss: 1.2808\n",
      "Epoch 6/30\n",
      "\u001b[1m97/97\u001b[0m \u001b[32m━━━━━━━━━━━━━━━━━━━━\u001b[0m\u001b[37m\u001b[0m \u001b[1m42s\u001b[0m 403ms/step - accuracy: 0.4431 - loss: 1.4520 - val_accuracy: 0.5924 - val_loss: 1.2170\n",
      "Epoch 7/30\n",
      "\u001b[1m97/97\u001b[0m \u001b[32m━━━━━━━━━━━━━━━━━━━━\u001b[0m\u001b[37m\u001b[0m \u001b[1m42s\u001b[0m 405ms/step - accuracy: 0.4744 - loss: 1.4070 - val_accuracy: 0.6177 - val_loss: 1.1395\n",
      "Epoch 8/30\n",
      "\u001b[1m97/97\u001b[0m \u001b[32m━━━━━━━━━━━━━━━━━━━━\u001b[0m\u001b[37m\u001b[0m \u001b[1m42s\u001b[0m 401ms/step - accuracy: 0.4790 - loss: 1.3495 - val_accuracy: 0.6304 - val_loss: 1.0966\n",
      "Epoch 9/30\n",
      "\u001b[1m97/97\u001b[0m \u001b[32m━━━━━━━━━━━━━━━━━━━━\u001b[0m\u001b[37m\u001b[0m \u001b[1m41s\u001b[0m 395ms/step - accuracy: 0.5180 - loss: 1.3153 - val_accuracy: 0.6401 - val_loss: 1.0480\n",
      "Epoch 10/30\n",
      "\u001b[1m97/97\u001b[0m \u001b[32m━━━━━━━━━━━━━━━━━━━━\u001b[0m\u001b[37m\u001b[0m \u001b[1m42s\u001b[0m 399ms/step - accuracy: 0.5143 - loss: 1.2855 - val_accuracy: 0.6683 - val_loss: 1.0021\n",
      "Epoch 11/30\n",
      "\u001b[1m97/97\u001b[0m \u001b[32m━━━━━━━━━━━━━━━━━━━━\u001b[0m\u001b[37m\u001b[0m \u001b[1m42s\u001b[0m 399ms/step - accuracy: 0.5304 - loss: 1.2205 - val_accuracy: 0.6673 - val_loss: 0.9811\n",
      "Epoch 12/30\n",
      "\u001b[1m97/97\u001b[0m \u001b[32m━━━━━━━━━━━━━━━━━━━━\u001b[0m\u001b[37m\u001b[0m \u001b[1m42s\u001b[0m 405ms/step - accuracy: 0.5547 - loss: 1.1797 - val_accuracy: 0.6780 - val_loss: 0.9338\n",
      "Epoch 13/30\n",
      "\u001b[1m97/97\u001b[0m \u001b[32m━━━━━━━━━━━━━━━━━━━━\u001b[0m\u001b[37m\u001b[0m \u001b[1m42s\u001b[0m 407ms/step - accuracy: 0.5739 - loss: 1.1846 - val_accuracy: 0.6858 - val_loss: 0.9173\n",
      "Epoch 14/30\n",
      "\u001b[1m97/97\u001b[0m \u001b[32m━━━━━━━━━━━━━━━━━━━━\u001b[0m\u001b[37m\u001b[0m \u001b[1m43s\u001b[0m 409ms/step - accuracy: 0.5627 - loss: 1.1358 - val_accuracy: 0.7082 - val_loss: 0.8821\n",
      "Epoch 15/30\n",
      "\u001b[1m97/97\u001b[0m \u001b[32m━━━━━━━━━━━━━━━━━━━━\u001b[0m\u001b[37m\u001b[0m \u001b[1m42s\u001b[0m 401ms/step - accuracy: 0.5798 - loss: 1.1158 - val_accuracy: 0.7121 - val_loss: 0.8567\n",
      "Epoch 16/30\n",
      "\u001b[1m97/97\u001b[0m \u001b[32m━━━━━━━━━━━━━━━━━━━━\u001b[0m\u001b[37m\u001b[0m \u001b[1m42s\u001b[0m 406ms/step - accuracy: 0.6160 - loss: 1.0638 - val_accuracy: 0.7286 - val_loss: 0.8203\n",
      "Epoch 17/30\n",
      "\u001b[1m97/97\u001b[0m \u001b[32m━━━━━━━━━━━━━━━━━━━━\u001b[0m\u001b[37m\u001b[0m \u001b[1m42s\u001b[0m 403ms/step - accuracy: 0.6130 - loss: 1.0538 - val_accuracy: 0.7315 - val_loss: 0.8070\n",
      "Epoch 18/30\n",
      "\u001b[1m97/97\u001b[0m \u001b[32m━━━━━━━━━━━━━━━━━━━━\u001b[0m\u001b[37m\u001b[0m \u001b[1m41s\u001b[0m 398ms/step - accuracy: 0.6016 - loss: 1.0503 - val_accuracy: 0.7403 - val_loss: 0.7757\n",
      "Epoch 19/30\n",
      "\u001b[1m97/97\u001b[0m \u001b[32m━━━━━━━━━━━━━━━━━━━━\u001b[0m\u001b[37m\u001b[0m \u001b[1m42s\u001b[0m 406ms/step - accuracy: 0.6323 - loss: 0.9948 - val_accuracy: 0.7549 - val_loss: 0.7455\n",
      "Epoch 20/30\n",
      "\u001b[1m97/97\u001b[0m \u001b[32m━━━━━━━━━━━━━━━━━━━━\u001b[0m\u001b[37m\u001b[0m \u001b[1m42s\u001b[0m 406ms/step - accuracy: 0.6178 - loss: 1.0126 - val_accuracy: 0.7510 - val_loss: 0.7443\n",
      "Epoch 21/30\n",
      "\u001b[1m97/97\u001b[0m \u001b[32m━━━━━━━━━━━━━━━━━━━━\u001b[0m\u001b[37m\u001b[0m \u001b[1m42s\u001b[0m 403ms/step - accuracy: 0.6297 - loss: 1.0237 - val_accuracy: 0.7636 - val_loss: 0.7136\n",
      "Epoch 22/30\n",
      "\u001b[1m97/97\u001b[0m \u001b[32m━━━━━━━━━━━━━━━━━━━━\u001b[0m\u001b[37m\u001b[0m \u001b[1m42s\u001b[0m 399ms/step - accuracy: 0.6206 - loss: 0.9952 - val_accuracy: 0.7665 - val_loss: 0.6920\n",
      "Epoch 23/30\n",
      "\u001b[1m97/97\u001b[0m \u001b[32m━━━━━━━━━━━━━━━━━━━━\u001b[0m\u001b[37m\u001b[0m \u001b[1m42s\u001b[0m 405ms/step - accuracy: 0.6561 - loss: 0.9633 - val_accuracy: 0.7743 - val_loss: 0.6786\n",
      "Epoch 24/30\n",
      "\u001b[1m97/97\u001b[0m \u001b[32m━━━━━━━━━━━━━━━━━━━━\u001b[0m\u001b[37m\u001b[0m \u001b[1m42s\u001b[0m 399ms/step - accuracy: 0.6550 - loss: 0.9198 - val_accuracy: 0.7860 - val_loss: 0.6406\n",
      "Epoch 25/30\n",
      "\u001b[1m97/97\u001b[0m \u001b[32m━━━━━━━━━━━━━━━━━━━━\u001b[0m\u001b[37m\u001b[0m \u001b[1m41s\u001b[0m 399ms/step - accuracy: 0.6709 - loss: 0.9129 - val_accuracy: 0.7918 - val_loss: 0.6351\n",
      "Epoch 26/30\n",
      "\u001b[1m97/97\u001b[0m \u001b[32m━━━━━━━━━━━━━━━━━━━━\u001b[0m\u001b[37m\u001b[0m \u001b[1m42s\u001b[0m 403ms/step - accuracy: 0.6786 - loss: 0.9061 - val_accuracy: 0.7986 - val_loss: 0.6128\n",
      "Epoch 27/30\n",
      "\u001b[1m97/97\u001b[0m \u001b[32m━━━━━━━━━━━━━━━━━━━━\u001b[0m\u001b[37m\u001b[0m \u001b[1m41s\u001b[0m 398ms/step - accuracy: 0.6775 - loss: 0.8855 - val_accuracy: 0.8093 - val_loss: 0.5975\n",
      "Epoch 28/30\n",
      "\u001b[1m97/97\u001b[0m \u001b[32m━━━━━━━━━━━━━━━━━━━━\u001b[0m\u001b[37m\u001b[0m \u001b[1m41s\u001b[0m 397ms/step - accuracy: 0.6824 - loss: 0.8760 - val_accuracy: 0.8025 - val_loss: 0.5949\n",
      "Epoch 29/30\n",
      "\u001b[1m97/97\u001b[0m \u001b[32m━━━━━━━━━━━━━━━━━━━━\u001b[0m\u001b[37m\u001b[0m \u001b[1m42s\u001b[0m 401ms/step - accuracy: 0.6910 - loss: 0.8404 - val_accuracy: 0.8123 - val_loss: 0.5673\n",
      "Epoch 30/30\n",
      "\u001b[1m97/97\u001b[0m \u001b[32m━━━━━━━━━━━━━━━━━━━━\u001b[0m\u001b[37m\u001b[0m \u001b[1m42s\u001b[0m 401ms/step - accuracy: 0.6950 - loss: 0.8459 - val_accuracy: 0.8191 - val_loss: 0.5668\n"
     ]
    }
   ],
   "source": [
    "history = model.fit(\n",
    "    train_generator,\n",
    "    validation_data=val_generator,\n",
    "    epochs=30\n",
    ")"
   ]
  },
  {
   "cell_type": "code",
   "execution_count": 7,
   "id": "3708b143",
   "metadata": {
    "execution": {
     "iopub.execute_input": "2025-02-13T21:30:44.579200Z",
     "iopub.status.busy": "2025-02-13T21:30:44.578933Z",
     "iopub.status.idle": "2025-02-13T21:30:45.454914Z",
     "shell.execute_reply": "2025-02-13T21:30:45.454173Z"
    },
    "papermill": {
     "duration": 1.015134,
     "end_time": "2025-02-13T21:30:45.456361",
     "exception": false,
     "start_time": "2025-02-13T21:30:44.441227",
     "status": "completed"
    },
    "tags": []
   },
   "outputs": [],
   "source": [
    "model.save('/kaggle/working/densenet121_teeth_model.keras')"
   ]
  },
  {
   "cell_type": "code",
   "execution_count": 8,
   "id": "220d062e",
   "metadata": {
    "execution": {
     "iopub.execute_input": "2025-02-13T21:30:45.732565Z",
     "iopub.status.busy": "2025-02-13T21:30:45.732266Z",
     "iopub.status.idle": "2025-02-13T21:38:30.284066Z",
     "shell.execute_reply": "2025-02-13T21:38:30.283324Z"
    },
    "papermill": {
     "duration": 464.690782,
     "end_time": "2025-02-13T21:38:30.285491",
     "exception": false,
     "start_time": "2025-02-13T21:30:45.594709",
     "status": "completed"
    },
    "tags": []
   },
   "outputs": [
    {
     "name": "stdout",
     "output_type": "stream",
     "text": [
      "Epoch 1/10\n",
      "\u001b[1m97/97\u001b[0m \u001b[32m━━━━━━━━━━━━━━━━━━━━\u001b[0m\u001b[37m\u001b[0m \u001b[1m89s\u001b[0m 617ms/step - accuracy: 0.5827 - loss: 1.1519 - val_accuracy: 0.8230 - val_loss: 0.5641\n",
      "Epoch 2/10\n",
      "\u001b[1m97/97\u001b[0m \u001b[32m━━━━━━━━━━━━━━━━━━━━\u001b[0m\u001b[37m\u001b[0m \u001b[1m42s\u001b[0m 403ms/step - accuracy: 0.6521 - loss: 0.9791 - val_accuracy: 0.8210 - val_loss: 0.5537\n",
      "Epoch 3/10\n",
      "\u001b[1m97/97\u001b[0m \u001b[32m━━━━━━━━━━━━━━━━━━━━\u001b[0m\u001b[37m\u001b[0m \u001b[1m41s\u001b[0m 398ms/step - accuracy: 0.6704 - loss: 0.9025 - val_accuracy: 0.8239 - val_loss: 0.5475\n",
      "Epoch 4/10\n",
      "\u001b[1m97/97\u001b[0m \u001b[32m━━━━━━━━━━━━━━━━━━━━\u001b[0m\u001b[37m\u001b[0m \u001b[1m42s\u001b[0m 401ms/step - accuracy: 0.6800 - loss: 0.8847 - val_accuracy: 0.8181 - val_loss: 0.5396\n",
      "Epoch 5/10\n",
      "\u001b[1m97/97\u001b[0m \u001b[32m━━━━━━━━━━━━━━━━━━━━\u001b[0m\u001b[37m\u001b[0m \u001b[1m42s\u001b[0m 406ms/step - accuracy: 0.7001 - loss: 0.8365 - val_accuracy: 0.8249 - val_loss: 0.5242\n",
      "Epoch 6/10\n",
      "\u001b[1m97/97\u001b[0m \u001b[32m━━━━━━━━━━━━━━━━━━━━\u001b[0m\u001b[37m\u001b[0m \u001b[1m42s\u001b[0m 400ms/step - accuracy: 0.6856 - loss: 0.8622 - val_accuracy: 0.8278 - val_loss: 0.5142\n",
      "Epoch 7/10\n",
      "\u001b[1m97/97\u001b[0m \u001b[32m━━━━━━━━━━━━━━━━━━━━\u001b[0m\u001b[37m\u001b[0m \u001b[1m41s\u001b[0m 398ms/step - accuracy: 0.6959 - loss: 0.8590 - val_accuracy: 0.8298 - val_loss: 0.5047\n",
      "Epoch 8/10\n",
      "\u001b[1m97/97\u001b[0m \u001b[32m━━━━━━━━━━━━━━━━━━━━\u001b[0m\u001b[37m\u001b[0m \u001b[1m42s\u001b[0m 400ms/step - accuracy: 0.7141 - loss: 0.7790 - val_accuracy: 0.8346 - val_loss: 0.4948\n",
      "Epoch 9/10\n",
      "\u001b[1m97/97\u001b[0m \u001b[32m━━━━━━━━━━━━━━━━━━━━\u001b[0m\u001b[37m\u001b[0m \u001b[1m42s\u001b[0m 400ms/step - accuracy: 0.7102 - loss: 0.7991 - val_accuracy: 0.8395 - val_loss: 0.4842\n",
      "Epoch 10/10\n",
      "\u001b[1m97/97\u001b[0m \u001b[32m━━━━━━━━━━━━━━━━━━━━\u001b[0m\u001b[37m\u001b[0m \u001b[1m41s\u001b[0m 397ms/step - accuracy: 0.7014 - loss: 0.8114 - val_accuracy: 0.8444 - val_loss: 0.4737\n"
     ]
    }
   ],
   "source": [
    "for layer in base_model.layers[-30:]:\n",
    "    layer.trainable = True\n",
    "\n",
    "model.compile(\n",
    "    optimizer=Adam(learning_rate=0.00001),  # Lower LR for fine-tuning\n",
    "    loss=\"sparse_categorical_crossentropy\",\n",
    "    metrics=[\"accuracy\"]\n",
    ")\n",
    "\n",
    "# Train Again (Fine-Tuning)\n",
    "history_fine = model.fit(\n",
    "    train_generator,\n",
    "    validation_data=val_generator,\n",
    "    epochs=10  # Shorter training for fine-tuning\n",
    ")"
   ]
  },
  {
   "cell_type": "code",
   "execution_count": 9,
   "id": "59589eac",
   "metadata": {
    "execution": {
     "iopub.execute_input": "2025-02-13T21:38:30.650600Z",
     "iopub.status.busy": "2025-02-13T21:38:30.650257Z",
     "iopub.status.idle": "2025-02-13T21:38:31.517402Z",
     "shell.execute_reply": "2025-02-13T21:38:31.516474Z"
    },
    "papermill": {
     "duration": 1.049666,
     "end_time": "2025-02-13T21:38:31.519049",
     "exception": false,
     "start_time": "2025-02-13T21:38:30.469383",
     "status": "completed"
    },
    "tags": []
   },
   "outputs": [],
   "source": [
    "model.save(\"/kaggle/working/densenet121_finetuned_final.keras\")"
   ]
  },
  {
   "cell_type": "code",
   "execution_count": 10,
   "id": "5d645fe5",
   "metadata": {
    "execution": {
     "iopub.execute_input": "2025-02-13T21:38:31.886505Z",
     "iopub.status.busy": "2025-02-13T21:38:31.886186Z",
     "iopub.status.idle": "2025-02-13T21:38:31.890120Z",
     "shell.execute_reply": "2025-02-13T21:38:31.889372Z"
    },
    "papermill": {
     "duration": 0.189064,
     "end_time": "2025-02-13T21:38:31.891336",
     "exception": false,
     "start_time": "2025-02-13T21:38:31.702272",
     "status": "completed"
    },
    "tags": []
   },
   "outputs": [],
   "source": [
    "checkpoint = ModelCheckpoint(\n",
    "    \"/kaggle/working/densenet121_finetuned1.keras\", \n",
    "    save_best_only=True, monitor=\"val_accuracy\", mode=\"max\"\n",
    ")\n",
    "early_stop = EarlyStopping(monitor=\"val_loss\", patience=3, restore_best_weights=True)"
   ]
  },
  {
   "cell_type": "code",
   "execution_count": 11,
   "id": "ca9c7e5b",
   "metadata": {
    "execution": {
     "iopub.execute_input": "2025-02-13T21:38:32.297197Z",
     "iopub.status.busy": "2025-02-13T21:38:32.296875Z",
     "iopub.status.idle": "2025-02-13T21:46:34.766792Z",
     "shell.execute_reply": "2025-02-13T21:46:34.765863Z"
    },
    "papermill": {
     "duration": 482.653242,
     "end_time": "2025-02-13T21:46:34.768234",
     "exception": false,
     "start_time": "2025-02-13T21:38:32.114992",
     "status": "completed"
    },
    "tags": []
   },
   "outputs": [
    {
     "name": "stdout",
     "output_type": "stream",
     "text": [
      "Epoch 1/10\n",
      "\u001b[1m97/97\u001b[0m \u001b[32m━━━━━━━━━━━━━━━━━━━━\u001b[0m\u001b[37m\u001b[0m \u001b[1m99s\u001b[0m 670ms/step - accuracy: 0.7113 - loss: 0.8067 - val_accuracy: 0.8444 - val_loss: 0.4690\n",
      "Epoch 2/10\n",
      "\u001b[1m97/97\u001b[0m \u001b[32m━━━━━━━━━━━━━━━━━━━━\u001b[0m\u001b[37m\u001b[0m \u001b[1m42s\u001b[0m 405ms/step - accuracy: 0.7029 - loss: 0.7958 - val_accuracy: 0.8405 - val_loss: 0.4622\n",
      "Epoch 3/10\n",
      "\u001b[1m97/97\u001b[0m \u001b[32m━━━━━━━━━━━━━━━━━━━━\u001b[0m\u001b[37m\u001b[0m \u001b[1m43s\u001b[0m 410ms/step - accuracy: 0.7084 - loss: 0.8136 - val_accuracy: 0.8492 - val_loss: 0.4533\n",
      "Epoch 4/10\n",
      "\u001b[1m97/97\u001b[0m \u001b[32m━━━━━━━━━━━━━━━━━━━━\u001b[0m\u001b[37m\u001b[0m \u001b[1m42s\u001b[0m 409ms/step - accuracy: 0.7269 - loss: 0.7473 - val_accuracy: 0.8541 - val_loss: 0.4404\n",
      "Epoch 5/10\n",
      "\u001b[1m97/97\u001b[0m \u001b[32m━━━━━━━━━━━━━━━━━━━━\u001b[0m\u001b[37m\u001b[0m \u001b[1m42s\u001b[0m 403ms/step - accuracy: 0.7437 - loss: 0.7217 - val_accuracy: 0.8531 - val_loss: 0.4336\n",
      "Epoch 6/10\n",
      "\u001b[1m97/97\u001b[0m \u001b[32m━━━━━━━━━━━━━━━━━━━━\u001b[0m\u001b[37m\u001b[0m \u001b[1m43s\u001b[0m 413ms/step - accuracy: 0.7384 - loss: 0.7145 - val_accuracy: 0.8589 - val_loss: 0.4155\n",
      "Epoch 7/10\n",
      "\u001b[1m97/97\u001b[0m \u001b[32m━━━━━━━━━━━━━━━━━━━━\u001b[0m\u001b[37m\u001b[0m \u001b[1m43s\u001b[0m 415ms/step - accuracy: 0.7435 - loss: 0.7067 - val_accuracy: 0.8609 - val_loss: 0.4056\n",
      "Epoch 8/10\n",
      "\u001b[1m97/97\u001b[0m \u001b[32m━━━━━━━━━━━━━━━━━━━━\u001b[0m\u001b[37m\u001b[0m \u001b[1m42s\u001b[0m 409ms/step - accuracy: 0.7408 - loss: 0.7205 - val_accuracy: 0.8687 - val_loss: 0.3892\n",
      "Epoch 9/10\n",
      "\u001b[1m97/97\u001b[0m \u001b[32m━━━━━━━━━━━━━━━━━━━━\u001b[0m\u001b[37m\u001b[0m \u001b[1m42s\u001b[0m 401ms/step - accuracy: 0.7585 - loss: 0.6825 - val_accuracy: 0.8687 - val_loss: 0.3822\n",
      "Epoch 10/10\n",
      "\u001b[1m97/97\u001b[0m \u001b[32m━━━━━━━━━━━━━━━━━━━━\u001b[0m\u001b[37m\u001b[0m \u001b[1m43s\u001b[0m 416ms/step - accuracy: 0.7474 - loss: 0.6923 - val_accuracy: 0.8794 - val_loss: 0.3693\n"
     ]
    }
   ],
   "source": [
    "for layer in base_model.layers[-60:]:\n",
    "    layer.trainable = True\n",
    "\n",
    "model.compile(\n",
    "    optimizer=Adam(learning_rate=0.00001),  # Lower LR for fine-tuning\n",
    "    loss=\"sparse_categorical_crossentropy\",\n",
    "    metrics=[\"accuracy\"]\n",
    ")\n",
    "\n",
    "# Train Again (Fine-Tuning)\n",
    "history_fine1 = model.fit(\n",
    "    train_generator,\n",
    "    validation_data=val_generator,\n",
    "    epochs=10,  # Shorter training for fine-tuning\n",
    "    callbacks=[checkpoint, early_stop] \n",
    ")"
   ]
  },
  {
   "cell_type": "code",
   "execution_count": 12,
   "id": "8daaac2c",
   "metadata": {
    "execution": {
     "iopub.execute_input": "2025-02-13T21:46:35.269039Z",
     "iopub.status.busy": "2025-02-13T21:46:35.268739Z",
     "iopub.status.idle": "2025-02-13T21:46:35.272446Z",
     "shell.execute_reply": "2025-02-13T21:46:35.271745Z"
    },
    "papermill": {
     "duration": 0.276007,
     "end_time": "2025-02-13T21:46:35.273841",
     "exception": false,
     "start_time": "2025-02-13T21:46:34.997834",
     "status": "completed"
    },
    "tags": []
   },
   "outputs": [],
   "source": [
    "checkpoint2 = ModelCheckpoint(\n",
    "    \"/kaggle/working/densenet121_finetuned2.keras\", \n",
    "    save_best_only=True, monitor=\"val_accuracy\", mode=\"max\"\n",
    ")\n",
    "early_stop2 = EarlyStopping(monitor=\"val_loss\", patience=3, restore_best_weights=True)"
   ]
  },
  {
   "cell_type": "code",
   "execution_count": 13,
   "id": "c06689f7",
   "metadata": {
    "execution": {
     "iopub.execute_input": "2025-02-13T21:46:35.734124Z",
     "iopub.status.busy": "2025-02-13T21:46:35.733857Z",
     "iopub.status.idle": "2025-02-13T21:50:42.472169Z",
     "shell.execute_reply": "2025-02-13T21:50:42.471098Z"
    },
    "papermill": {
     "duration": 246.977884,
     "end_time": "2025-02-13T21:50:42.474059",
     "exception": false,
     "start_time": "2025-02-13T21:46:35.496175",
     "status": "completed"
    },
    "tags": []
   },
   "outputs": [
    {
     "name": "stdout",
     "output_type": "stream",
     "text": [
      "Epoch 1/15\n",
      "\u001b[1m97/97\u001b[0m \u001b[32m━━━━━━━━━━━━━━━━━━━━\u001b[0m\u001b[37m\u001b[0m \u001b[1m113s\u001b[0m 720ms/step - accuracy: 0.7273 - loss: 0.7768 - val_accuracy: 0.8862 - val_loss: 0.3621\n",
      "Epoch 2/15\n",
      "\u001b[1m97/97\u001b[0m \u001b[32m━━━━━━━━━━━━━━━━━━━━\u001b[0m\u001b[37m\u001b[0m \u001b[1m43s\u001b[0m 410ms/step - accuracy: 0.7394 - loss: 0.7402 - val_accuracy: 0.8804 - val_loss: 0.3815\n",
      "Epoch 3/15\n",
      "\u001b[1m97/97\u001b[0m \u001b[32m━━━━━━━━━━━━━━━━━━━━\u001b[0m\u001b[37m\u001b[0m \u001b[1m43s\u001b[0m 416ms/step - accuracy: 0.7419 - loss: 0.7397 - val_accuracy: 0.8794 - val_loss: 0.3930\n",
      "Epoch 4/15\n",
      "\u001b[1m97/97\u001b[0m \u001b[32m━━━━━━━━━━━━━━━━━━━━\u001b[0m\u001b[37m\u001b[0m \u001b[1m47s\u001b[0m 453ms/step - accuracy: 0.7482 - loss: 0.7080 - val_accuracy: 0.8823 - val_loss: 0.4000\n"
     ]
    }
   ],
   "source": [
    "for layer in base_model.layers[-100:]:\n",
    "    layer.trainable = True\n",
    "\n",
    "model.compile(\n",
    "    optimizer=Adam(learning_rate=0.000001),  # Lower LR for fine-tuning\n",
    "    loss=\"sparse_categorical_crossentropy\",\n",
    "    metrics=[\"accuracy\"]\n",
    ")\n",
    "\n",
    "# Train Again (Fine-Tuning)\n",
    "history_fine2 = model.fit(\n",
    "    train_generator,\n",
    "    validation_data=val_generator,\n",
    "    epochs=15,  # Shorter training for fine-tuning\n",
    "    callbacks=[checkpoint, early_stop] \n",
    ")"
   ]
  },
  {
   "cell_type": "code",
   "execution_count": 14,
   "id": "95bc626a",
   "metadata": {
    "execution": {
     "iopub.execute_input": "2025-02-13T21:50:43.056743Z",
     "iopub.status.busy": "2025-02-13T21:50:43.056310Z",
     "iopub.status.idle": "2025-02-13T21:50:43.346553Z",
     "shell.execute_reply": "2025-02-13T21:50:43.345409Z"
    },
    "papermill": {
     "duration": 0.57892,
     "end_time": "2025-02-13T21:50:43.348511",
     "exception": false,
     "start_time": "2025-02-13T21:50:42.769591",
     "status": "completed"
    },
    "tags": []
   },
   "outputs": [
    {
     "data": {
      "image/png": "[encoded data removed]",
      "text/plain": [
       "<Figure size 1200x500 with 1 Axes>"
      ]
     },
     "metadata": {},
     "output_type": "display_data"
    }
   ],
   "source": [
    "# Plot Training & Validation Accuracy\n",
    "plt.figure(figsize=(12, 5))\n",
    "\n",
    "plt.subplot(1, 2, 1)\n",
    "plt.plot(history_fine1.history['accuracy'], label='Train Accuracy', color='blue')\n",
    "plt.plot(history_fine1.history['val_accuracy'], label='Validation Accuracy', color='red')\n",
    "plt.xlabel('Epochs')\n",
    "plt.ylabel('Accuracy')\n",
    "plt.title('Training vs Validation Accuracy (Fine-Tuned)')\n",
    "plt.ylim(0, 1)\n",
    "plt.legend()\n",
    "plt.grid()\n",
    "\n",
    "plt.tight_layout()\n",
    "plt.show()"
   ]
  },
  {
   "cell_type": "code",
   "execution_count": 15,
   "id": "77c229d6",
   "metadata": {
    "execution": {
     "iopub.execute_input": "2025-02-13T21:50:44.001779Z",
     "iopub.status.busy": "2025-02-13T21:50:44.001417Z",
     "iopub.status.idle": "2025-02-13T21:50:44.254857Z",
     "shell.execute_reply": "2025-02-13T21:50:44.253755Z"
    },
    "papermill": {
     "duration": 0.538499,
     "end_time": "2025-02-13T21:50:44.256435",
     "exception": false,
     "start_time": "2025-02-13T21:50:43.717936",
     "status": "completed"
    },
    "tags": []
   },
   "outputs": [
    {
     "data": {
      "image/png": "[encoded data removed]",
      "text/plain": [
       "<Figure size 1200x500 with 1 Axes>"
      ]
     },
     "metadata": {},
     "output_type": "display_data"
    }
   ],
   "source": [
    "# Plot Training & Validation Loss\n",
    "plt.figure(figsize=(12, 5))\n",
    "\n",
    "plt.subplot(1, 2, 2)\n",
    "plt.plot(history_fine1.history['loss'], label='Train Loss', color='blue')\n",
    "plt.plot(history_fine1.history['val_loss'], label='Validation Loss', color='red')\n",
    "plt.xlabel('Epochs')\n",
    "plt.ylabel('Loss')\n",
    "plt.title('Training vs Validation Loss (Fine-Tuned)')\n",
    "plt.legend()\n",
    "plt.grid()\n",
    "\n",
    "plt.tight_layout()\n",
    "plt.show()"
   ]
  },
  {
   "cell_type": "code",
   "execution_count": 18,
   "id": "c8fafd86",
   "metadata": {
    "execution": {
     "iopub.execute_input": "2025-02-13T21:51:08.097169Z",
     "iopub.status.busy": "2025-02-13T21:51:08.096850Z",
     "iopub.status.idle": "2025-02-13T21:51:10.712675Z",
     "shell.execute_reply": "2025-02-13T21:51:10.711821Z"
    },
    "papermill": {
     "duration": 2.900822,
     "end_time": "2025-02-13T21:51:10.714285",
     "exception": false,
     "start_time": "2025-02-13T21:51:07.813463",
     "status": "completed"
    },
    "tags": []
   },
   "outputs": [],
   "source": [
    "loaded_model = tf.keras.models.load_model(\"/kaggle/working/densenet121_finetuned1.keras\")"
   ]
  },
  {
   "cell_type": "code",
   "execution_count": 19,
   "id": "d8b0e34d",
   "metadata": {
    "execution": {
     "iopub.execute_input": "2025-02-13T21:51:11.269749Z",
     "iopub.status.busy": "2025-02-13T21:51:11.269428Z",
     "iopub.status.idle": "2025-02-13T21:51:21.709776Z",
     "shell.execute_reply": "2025-02-13T21:51:21.708535Z"
    },
    "papermill": {
     "duration": 10.721818,
     "end_time": "2025-02-13T21:51:21.711310",
     "exception": false,
     "start_time": "2025-02-13T21:51:10.989492",
     "status": "completed"
    },
    "tags": []
   },
   "outputs": [
    {
     "name": "stdout",
     "output_type": "stream",
     "text": [
      "\u001b[1m1/1\u001b[0m \u001b[32m━━━━━━━━━━━━━━━━━━━━\u001b[0m\u001b[37m\u001b[0m \u001b[1m10s\u001b[0m 10s/step\n",
      "Predicted Class: Gum\n",
      "Predicted Label Index: 2\n"
     ]
    }
   ],
   "source": [
    "def predict_teeth(image_path, model):\n",
    "    img = image.load_img(image_path, target_size=(224, 224))\n",
    "    img_array = image.img_to_array(img) / 255.0\n",
    "    img_array = np.expand_dims(img_array, axis=0)\n",
    "\n",
    "    prediction = model.predict(img_array)\n",
    "    class_index = np.argmax(prediction)\n",
    "    \n",
    "    print(f\"Predicted Class: {list(train_generator.class_indices.keys())[class_index]}\")\n",
    "    print(f\"Predicted Label Index: {class_index}\")\n",
    "\n",
    "\n",
    "predict_teeth(\"/kaggle/input/teeth-cellula/Teeth_Dataset/Testing/Gum/g_1201_0_8478.jpg\", loaded_model)"
   ]
  },
  {
   "cell_type": "code",
   "execution_count": null,
   "id": "3b29002c",
   "metadata": {
    "papermill": {
     "duration": 0.342204,
     "end_time": "2025-02-13T21:51:22.338086",
     "exception": false,
     "start_time": "2025-02-13T21:51:21.995882",
     "status": "completed"
    },
    "tags": []
   },
   "outputs": [],
   "source": []
  }
 ],
 "metadata": {
  "kaggle": {
   "accelerator": "nvidiaTeslaT4",
   "dataSources": [
    {
     "datasetId": 6662593,
     "sourceId": 10743669,
     "sourceType": "datasetVersion"
    }
   ],
   "dockerImageVersionId": 30887,
   "isGpuEnabled": true,
   "isInternetEnabled": true,
   "language": "python",
   "sourceType": "notebook"
  },
  "kernelspec": {
   "display_name": "Python 3",
   "language": "python",
   "name": "python3"
  },
  "language_info": {
   "codemirror_mode": {
    "name": "ipython",
    "version": 3
   },
   "file_extension": ".py",
   "mimetype": "text/x-python",
   "name": "python",
   "nbconvert_exporter": "python",
   "pygments_lexer": "ipython3",
   "version": "3.10.12"
  },
  "papermill": {
   "default_parameters": {},
   "duration": 2584.890056,
   "end_time": "2025-02-13T21:51:27.234785",
   "environment_variables": {},
   "exception": null,
   "input_path": "__notebook__.ipynb",
   "output_path": "__notebook__.ipynb",
   "parameters": {},
   "start_time": "2025-02-13T21:08:22.344729",
   "version": "2.6.0"
  }
 },
 "nbformat": 4,
 "nbformat_minor": 5
}
